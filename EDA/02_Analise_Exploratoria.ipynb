{
 "cells": [
  {
   "cell_type": "markdown",
   "metadata": {},
   "source": [
    "# EDA parte 2 - Geração de Insights"
   ]
  },
  {
   "cell_type": "markdown",
   "metadata": {},
   "source": [
    "### Principais problemas de negócio\n",
    "- Previsão de vendas de empresa varejista\n",
    "- Previsão de custos e margem líquida\n",
    "- Verficiar projeção de crescimento\n",
    "- Categorias e produtos em alta, bem como em baixa\n",
    "- Projeção de lucro e custos por estado \n",
    "- Horas com maiores volumes de vendas\n",
    "- Dia da semana com maiores volumes de vendas"
   ]
  },
  {
   "cell_type": "markdown",
   "metadata": {},
   "source": []
  }
 ],
 "metadata": {
  "language_info": {
   "name": "python"
  }
 },
 "nbformat": 4,
 "nbformat_minor": 2
}
