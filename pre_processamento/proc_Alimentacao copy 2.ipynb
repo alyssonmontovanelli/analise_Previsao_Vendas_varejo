{
 "cells": [
  {
   "cell_type": "code",
   "execution_count": 27,
   "metadata": {},
   "outputs": [],
   "source": [
    "import pandas as pd\n",
    "import numpy as np\n",
    "import matplotlib.pyplot as plt\n",
    "import scipy\n",
    "import seaborn as sns\n",
    "from statsmodels.tsa.seasonal import seasonal_decompose\n",
    "from statsmodels.tsa.arima.model import ARIMA\n",
    "from statsmodels.tsa.arima.model import ARIMAResults\n",
    "\n"
   ]
  },
  {
   "cell_type": "code",
   "execution_count": 2,
   "metadata": {},
   "outputs": [],
   "source": [
    "import sklearn\n",
    "from sklearn.model_selection import train_test_split # divide dados de treino / teste\n",
    "from sklearn.preprocessing import StandardScaler # Padronização\n",
    "from sklearn.linear_model import LinearRegression # Regressão linear\n",
    "from sklearn.linear_model import Ridge # Regressão Ridge\n",
    "from sklearn.linear_model import Lasso # Regressão Lasso\n",
    "from sklearn.metrics import mean_absolute_error, mean_squared_error, r2_score, explained_variance_score # Métricas para regressão\n",
    "%matplotlib inline\n",
    "from statsmodels.tsa.statespace.sarimax import SARIMAX\n",
    "from statsmodels.tsa.holtwinters import ExponentialSmoothing\n",
    "\n",
    "from datetime import datetime as dt\n"
   ]
  },
  {
   "cell_type": "markdown",
   "metadata": {},
   "source": [
    "#### IMPORTANDO O DF ALIMENTAÇÃO"
   ]
  },
  {
   "cell_type": "code",
   "execution_count": 129,
   "metadata": {},
   "outputs": [],
   "source": [
    "df_alimentacao = pd.read_csv(\"../data/dados_para_processamento/df_alimentacao.csv\", sep =',',\n",
    "                              parse_dates = ['ds'],\n",
    "                              encoding = 'utf-8')\n",
    "#df_alimentacao = df_alimentacao[df_alimentacao['Data_Venda'] != '2020-01']"
   ]
  },
  {
   "cell_type": "code",
   "execution_count": 130,
   "metadata": {},
   "outputs": [],
   "source": [
    "df_alimentacao = df_alimentacao[df_alimentacao.ds != '2020-01-01'].sort_index(ascending= True)"
   ]
  },
  {
   "cell_type": "code",
   "execution_count": 131,
   "metadata": {},
   "outputs": [
    {
     "data": {
      "text/html": [
       "<div>\n",
       "<style scoped>\n",
       "    .dataframe tbody tr th:only-of-type {\n",
       "        vertical-align: middle;\n",
       "    }\n",
       "\n",
       "    .dataframe tbody tr th {\n",
       "        vertical-align: top;\n",
       "    }\n",
       "\n",
       "    .dataframe thead th {\n",
       "        text-align: right;\n",
       "    }\n",
       "</style>\n",
       "<table border=\"1\" class=\"dataframe\">\n",
       "  <thead>\n",
       "    <tr style=\"text-align: right;\">\n",
       "      <th></th>\n",
       "      <th>Produto</th>\n",
       "      <th>y</th>\n",
       "      <th>ds</th>\n",
       "    </tr>\n",
       "  </thead>\n",
       "  <tbody>\n",
       "    <tr>\n",
       "      <th>0</th>\n",
       "      <td>Cabo de Carregamento Turbo</td>\n",
       "      <td>1</td>\n",
       "      <td>2019-01-01</td>\n",
       "    </tr>\n",
       "    <tr>\n",
       "      <th>1</th>\n",
       "      <td>Pilhas AAA (4 Unidades)</td>\n",
       "      <td>1</td>\n",
       "      <td>2019-01-01</td>\n",
       "    </tr>\n",
       "    <tr>\n",
       "      <th>2</th>\n",
       "      <td>Cabo de Carregamento USB-C</td>\n",
       "      <td>1</td>\n",
       "      <td>2019-01-01</td>\n",
       "    </tr>\n",
       "    <tr>\n",
       "      <th>3</th>\n",
       "      <td>Pilhas AAA (4 Unidades)</td>\n",
       "      <td>3</td>\n",
       "      <td>2019-01-01</td>\n",
       "    </tr>\n",
       "    <tr>\n",
       "      <th>4</th>\n",
       "      <td>Cabo de Carregamento USB-C</td>\n",
       "      <td>1</td>\n",
       "      <td>2019-01-01</td>\n",
       "    </tr>\n",
       "    <tr>\n",
       "      <th>...</th>\n",
       "      <td>...</td>\n",
       "      <td>...</td>\n",
       "      <td>...</td>\n",
       "    </tr>\n",
       "    <tr>\n",
       "      <th>84774</th>\n",
       "      <td>Pilhas AAA (4 Unidades)</td>\n",
       "      <td>2</td>\n",
       "      <td>2019-12-01</td>\n",
       "    </tr>\n",
       "    <tr>\n",
       "      <th>84775</th>\n",
       "      <td>Cabo de Carregamento Turbo</td>\n",
       "      <td>1</td>\n",
       "      <td>2019-12-01</td>\n",
       "    </tr>\n",
       "    <tr>\n",
       "      <th>84776</th>\n",
       "      <td>Pilhas AAA (4 Unidades)</td>\n",
       "      <td>1</td>\n",
       "      <td>2019-12-01</td>\n",
       "    </tr>\n",
       "    <tr>\n",
       "      <th>84777</th>\n",
       "      <td>Cabo de Carregamento Turbo</td>\n",
       "      <td>1</td>\n",
       "      <td>2019-12-01</td>\n",
       "    </tr>\n",
       "    <tr>\n",
       "      <th>84778</th>\n",
       "      <td>Pilhas AA (4 Unidades)</td>\n",
       "      <td>2</td>\n",
       "      <td>2019-12-01</td>\n",
       "    </tr>\n",
       "  </tbody>\n",
       "</table>\n",
       "<p>84767 rows × 3 columns</p>\n",
       "</div>"
      ],
      "text/plain": [
       "                          Produto  y         ds\n",
       "0      Cabo de Carregamento Turbo  1 2019-01-01\n",
       "1         Pilhas AAA (4 Unidades)  1 2019-01-01\n",
       "2      Cabo de Carregamento USB-C  1 2019-01-01\n",
       "3         Pilhas AAA (4 Unidades)  3 2019-01-01\n",
       "4      Cabo de Carregamento USB-C  1 2019-01-01\n",
       "...                           ... ..        ...\n",
       "84774     Pilhas AAA (4 Unidades)  2 2019-12-01\n",
       "84775  Cabo de Carregamento Turbo  1 2019-12-01\n",
       "84776     Pilhas AAA (4 Unidades)  1 2019-12-01\n",
       "84777  Cabo de Carregamento Turbo  1 2019-12-01\n",
       "84778      Pilhas AA (4 Unidades)  2 2019-12-01\n",
       "\n",
       "[84767 rows x 3 columns]"
      ]
     },
     "execution_count": 131,
     "metadata": {},
     "output_type": "execute_result"
    }
   ],
   "source": [
    "df_alimentacao"
   ]
  },
  {
   "cell_type": "code",
   "execution_count": 132,
   "metadata": {},
   "outputs": [
    {
     "name": "stdout",
     "output_type": "stream",
     "text": [
      "<class 'pandas.core.frame.DataFrame'>\n",
      "Index: 84767 entries, 0 to 84778\n",
      "Data columns (total 3 columns):\n",
      " #   Column   Non-Null Count  Dtype         \n",
      "---  ------   --------------  -----         \n",
      " 0   Produto  84767 non-null  object        \n",
      " 1   y        84767 non-null  int64         \n",
      " 2   ds       84767 non-null  datetime64[ns]\n",
      "dtypes: datetime64[ns](1), int64(1), object(1)\n",
      "memory usage: 2.6+ MB\n"
     ]
    }
   ],
   "source": [
    "df_alimentacao.info(10)"
   ]
  },
  {
   "cell_type": "code",
   "execution_count": 133,
   "metadata": {},
   "outputs": [
    {
     "data": {
      "text/html": [
       "<div>\n",
       "<style scoped>\n",
       "    .dataframe tbody tr th:only-of-type {\n",
       "        vertical-align: middle;\n",
       "    }\n",
       "\n",
       "    .dataframe tbody tr th {\n",
       "        vertical-align: top;\n",
       "    }\n",
       "\n",
       "    .dataframe thead th {\n",
       "        text-align: right;\n",
       "    }\n",
       "</style>\n",
       "<table border=\"1\" class=\"dataframe\">\n",
       "  <thead>\n",
       "    <tr style=\"text-align: right;\">\n",
       "      <th></th>\n",
       "      <th>Produto</th>\n",
       "      <th>y</th>\n",
       "      <th>ds</th>\n",
       "    </tr>\n",
       "  </thead>\n",
       "  <tbody>\n",
       "    <tr>\n",
       "      <th>0</th>\n",
       "      <td>Cabo de Carregamento Turbo</td>\n",
       "      <td>1</td>\n",
       "      <td>2019-01-01</td>\n",
       "    </tr>\n",
       "    <tr>\n",
       "      <th>1</th>\n",
       "      <td>Pilhas AAA (4 Unidades)</td>\n",
       "      <td>1</td>\n",
       "      <td>2019-01-01</td>\n",
       "    </tr>\n",
       "    <tr>\n",
       "      <th>2</th>\n",
       "      <td>Cabo de Carregamento USB-C</td>\n",
       "      <td>1</td>\n",
       "      <td>2019-01-01</td>\n",
       "    </tr>\n",
       "    <tr>\n",
       "      <th>3</th>\n",
       "      <td>Pilhas AAA (4 Unidades)</td>\n",
       "      <td>3</td>\n",
       "      <td>2019-01-01</td>\n",
       "    </tr>\n",
       "    <tr>\n",
       "      <th>4</th>\n",
       "      <td>Cabo de Carregamento USB-C</td>\n",
       "      <td>1</td>\n",
       "      <td>2019-01-01</td>\n",
       "    </tr>\n",
       "    <tr>\n",
       "      <th>5</th>\n",
       "      <td>Pilhas AA (4 Unidades)</td>\n",
       "      <td>1</td>\n",
       "      <td>2019-01-01</td>\n",
       "    </tr>\n",
       "    <tr>\n",
       "      <th>6</th>\n",
       "      <td>Pilhas AAA (4 Unidades)</td>\n",
       "      <td>1</td>\n",
       "      <td>2019-01-01</td>\n",
       "    </tr>\n",
       "    <tr>\n",
       "      <th>7</th>\n",
       "      <td>Cabo de Carregamento USB-C</td>\n",
       "      <td>1</td>\n",
       "      <td>2019-01-01</td>\n",
       "    </tr>\n",
       "  </tbody>\n",
       "</table>\n",
       "</div>"
      ],
      "text/plain": [
       "                      Produto  y         ds\n",
       "0  Cabo de Carregamento Turbo  1 2019-01-01\n",
       "1     Pilhas AAA (4 Unidades)  1 2019-01-01\n",
       "2  Cabo de Carregamento USB-C  1 2019-01-01\n",
       "3     Pilhas AAA (4 Unidades)  3 2019-01-01\n",
       "4  Cabo de Carregamento USB-C  1 2019-01-01\n",
       "5      Pilhas AA (4 Unidades)  1 2019-01-01\n",
       "6     Pilhas AAA (4 Unidades)  1 2019-01-01\n",
       "7  Cabo de Carregamento USB-C  1 2019-01-01"
      ]
     },
     "execution_count": 133,
     "metadata": {},
     "output_type": "execute_result"
    }
   ],
   "source": [
    "df_alimentacao.head(8)"
   ]
  },
  {
   "cell_type": "code",
   "execution_count": null,
   "metadata": {},
   "outputs": [],
   "source": []
  },
  {
   "cell_type": "code",
   "execution_count": 142,
   "metadata": {},
   "outputs": [],
   "source": [
    "df_alimentacao_2 = df_alimentacao.groupby(['ds', 'Produto'])[\"y\"].sum().reset_index()"
   ]
  },
  {
   "cell_type": "code",
   "execution_count": 143,
   "metadata": {},
   "outputs": [
    {
     "data": {
      "text/html": [
       "<div>\n",
       "<style scoped>\n",
       "    .dataframe tbody tr th:only-of-type {\n",
       "        vertical-align: middle;\n",
       "    }\n",
       "\n",
       "    .dataframe tbody tr th {\n",
       "        vertical-align: top;\n",
       "    }\n",
       "\n",
       "    .dataframe thead th {\n",
       "        text-align: right;\n",
       "    }\n",
       "</style>\n",
       "<table border=\"1\" class=\"dataframe\">\n",
       "  <thead>\n",
       "    <tr style=\"text-align: right;\">\n",
       "      <th></th>\n",
       "      <th>ds</th>\n",
       "      <th>Produto</th>\n",
       "      <th>y</th>\n",
       "    </tr>\n",
       "  </thead>\n",
       "  <tbody>\n",
       "    <tr>\n",
       "      <th>0</th>\n",
       "      <td>2019-01-01</td>\n",
       "      <td>Cabo de Carregamento Turbo</td>\n",
       "      <td>1149</td>\n",
       "    </tr>\n",
       "    <tr>\n",
       "      <th>1</th>\n",
       "      <td>2019-01-01</td>\n",
       "      <td>Cabo de Carregamento USB-C</td>\n",
       "      <td>1283</td>\n",
       "    </tr>\n",
       "    <tr>\n",
       "      <th>2</th>\n",
       "      <td>2019-01-01</td>\n",
       "      <td>Pilhas AA (4 Unidades)</td>\n",
       "      <td>1424</td>\n",
       "    </tr>\n",
       "    <tr>\n",
       "      <th>3</th>\n",
       "      <td>2019-01-01</td>\n",
       "      <td>Pilhas AAA (4 Unidades)</td>\n",
       "      <td>1595</td>\n",
       "    </tr>\n",
       "    <tr>\n",
       "      <th>4</th>\n",
       "      <td>2019-02-01</td>\n",
       "      <td>Cabo de Carregamento Turbo</td>\n",
       "      <td>1499</td>\n",
       "    </tr>\n",
       "    <tr>\n",
       "      <th>5</th>\n",
       "      <td>2019-02-01</td>\n",
       "      <td>Cabo de Carregamento USB-C</td>\n",
       "      <td>1654</td>\n",
       "    </tr>\n",
       "    <tr>\n",
       "      <th>6</th>\n",
       "      <td>2019-02-01</td>\n",
       "      <td>Pilhas AA (4 Unidades)</td>\n",
       "      <td>1735</td>\n",
       "    </tr>\n",
       "    <tr>\n",
       "      <th>7</th>\n",
       "      <td>2019-02-01</td>\n",
       "      <td>Pilhas AAA (4 Unidades)</td>\n",
       "      <td>1972</td>\n",
       "    </tr>\n",
       "    <tr>\n",
       "      <th>8</th>\n",
       "      <td>2019-03-01</td>\n",
       "      <td>Cabo de Carregamento Turbo</td>\n",
       "      <td>1873</td>\n",
       "    </tr>\n",
       "    <tr>\n",
       "      <th>9</th>\n",
       "      <td>2019-03-01</td>\n",
       "      <td>Cabo de Carregamento USB-C</td>\n",
       "      <td>1944</td>\n",
       "    </tr>\n",
       "  </tbody>\n",
       "</table>\n",
       "</div>"
      ],
      "text/plain": [
       "          ds                     Produto     y\n",
       "0 2019-01-01  Cabo de Carregamento Turbo  1149\n",
       "1 2019-01-01  Cabo de Carregamento USB-C  1283\n",
       "2 2019-01-01      Pilhas AA (4 Unidades)  1424\n",
       "3 2019-01-01     Pilhas AAA (4 Unidades)  1595\n",
       "4 2019-02-01  Cabo de Carregamento Turbo  1499\n",
       "5 2019-02-01  Cabo de Carregamento USB-C  1654\n",
       "6 2019-02-01      Pilhas AA (4 Unidades)  1735\n",
       "7 2019-02-01     Pilhas AAA (4 Unidades)  1972\n",
       "8 2019-03-01  Cabo de Carregamento Turbo  1873\n",
       "9 2019-03-01  Cabo de Carregamento USB-C  1944"
      ]
     },
     "execution_count": 143,
     "metadata": {},
     "output_type": "execute_result"
    }
   ],
   "source": [
    "df_alimentacao_2.head(10)"
   ]
  },
  {
   "cell_type": "code",
   "execution_count": 145,
   "metadata": {},
   "outputs": [
    {
     "data": {
      "text/plain": [
       "Index(['ds', 'Produto', 'y'], dtype='object')"
      ]
     },
     "execution_count": 145,
     "metadata": {},
     "output_type": "execute_result"
    }
   ],
   "source": [
    "df_alimentacao_2.columns"
   ]
  },
  {
   "cell_type": "code",
   "execution_count": 151,
   "metadata": {},
   "outputs": [],
   "source": [
    "df_pilha_AAA = df_alimentacao_2[df_alimentacao_2['Produto'] == 'Pilhas AAA (4 Unidades)']\n"
   ]
  },
  {
   "cell_type": "code",
   "execution_count": 153,
   "metadata": {},
   "outputs": [],
   "source": [
    "df_pilha_AAA = df_pilha_AAA.drop(columns = {'Produto'})"
   ]
  },
  {
   "cell_type": "code",
   "execution_count": 156,
   "metadata": {},
   "outputs": [],
   "source": [
    "df_pilha_AAA = df_pilha_AAA.set_index('ds')['y']"
   ]
  },
  {
   "cell_type": "code",
   "execution_count": 157,
   "metadata": {},
   "outputs": [
    {
     "data": {
      "text/plain": [
       "ds\n",
       "2019-01-01    1595\n",
       "2019-02-01    1972\n",
       "2019-03-01    2479\n",
       "2019-04-01    2939\n",
       "2019-05-01    2927\n",
       "2019-06-01    2162\n",
       "2019-07-01    2365\n",
       "2019-08-01    2021\n",
       "2019-09-01    1923\n",
       "2019-10-01    3363\n",
       "2019-11-01    3025\n",
       "2019-12-01    4241\n",
       "Name: y, dtype: int64"
      ]
     },
     "execution_count": 157,
     "metadata": {},
     "output_type": "execute_result"
    }
   ],
   "source": [
    "df_pilha_AAA"
   ]
  },
  {
   "cell_type": "code",
   "execution_count": 158,
   "metadata": {},
   "outputs": [],
   "source": [
    "# Ajustando Freq para Mensal\n",
    "df_pilha_AAA = df_pilha_AAA.asfreq('MS')"
   ]
  },
  {
   "cell_type": "code",
   "execution_count": 216,
   "metadata": {},
   "outputs": [
    {
     "name": "stdout",
     "output_type": "stream",
     "text": [
      "Previsões ARIMA:\n",
      "2020-01-01    4164.721860\n",
      "2020-02-01    4417.699741\n",
      "Freq: MS, Name: predicted_mean, dtype: float64\n"
     ]
    },
    {
     "name": "stderr",
     "output_type": "stream",
     "text": [
      "c:\\Users\\alyss\\anaconda3\\lib\\site-packages\\statsmodels\\tsa\\statespace\\sarimax.py:978: UserWarning: Non-invertible starting MA parameters found. Using zeros as starting parameters.\n",
      "  warn('Non-invertible starting MA parameters found.'\n"
     ]
    }
   ],
   "source": [
    "# APLICANDO ARIMA \n",
    "\n",
    "model_arima = ARIMA(df_pilha_AAA, order=(0, 1, 2))\n",
    "fit_arima = model_arima.fit()\n",
    "\n",
    "# Fazer previsões para os próximos meses\n",
    "forecast_arima = fit_arima.forecast(steps=2)\n",
    "\n",
    "# Exibir as previsões\n",
    "print(\"Previsões ARIMA:\")\n",
    "print(forecast_arima)"
   ]
  },
  {
   "cell_type": "code",
   "execution_count": 174,
   "metadata": {},
   "outputs": [
    {
     "name": "stderr",
     "output_type": "stream",
     "text": [
      "c:\\Users\\alyss\\anaconda3\\lib\\site-packages\\statsmodels\\tsa\\statespace\\sarimax.py:978: UserWarning: Non-invertible starting MA parameters found. Using zeros as starting parameters.\n",
      "  warn('Non-invertible starting MA parameters found.'\n",
      "c:\\Users\\alyss\\anaconda3\\lib\\site-packages\\statsmodels\\tsa\\statespace\\sarimax.py:966: UserWarning: Non-stationary starting autoregressive parameters found. Using zeros as starting parameters.\n",
      "  warn('Non-stationary starting autoregressive parameters'\n",
      "c:\\Users\\alyss\\anaconda3\\lib\\site-packages\\statsmodels\\tsa\\statespace\\sarimax.py:966: UserWarning: Non-stationary starting autoregressive parameters found. Using zeros as starting parameters.\n",
      "  warn('Non-stationary starting autoregressive parameters'\n",
      "c:\\Users\\alyss\\anaconda3\\lib\\site-packages\\statsmodels\\tsa\\statespace\\sarimax.py:978: UserWarning: Non-invertible starting MA parameters found. Using zeros as starting parameters.\n",
      "  warn('Non-invertible starting MA parameters found.'\n",
      "c:\\Users\\alyss\\anaconda3\\lib\\site-packages\\statsmodels\\base\\model.py:604: ConvergenceWarning: Maximum Likelihood optimization failed to converge. Check mle_retvals\n",
      "  warnings.warn(\"Maximum Likelihood optimization failed to \"\n",
      "c:\\Users\\alyss\\anaconda3\\lib\\site-packages\\statsmodels\\tsa\\statespace\\sarimax.py:966: UserWarning: Non-stationary starting autoregressive parameters found. Using zeros as starting parameters.\n",
      "  warn('Non-stationary starting autoregressive parameters'\n",
      "c:\\Users\\alyss\\anaconda3\\lib\\site-packages\\statsmodels\\tsa\\statespace\\sarimax.py:978: UserWarning: Non-invertible starting MA parameters found. Using zeros as starting parameters.\n",
      "  warn('Non-invertible starting MA parameters found.'\n",
      "c:\\Users\\alyss\\anaconda3\\lib\\site-packages\\statsmodels\\tsa\\statespace\\sarimax.py:966: UserWarning: Non-stationary starting autoregressive parameters found. Using zeros as starting parameters.\n",
      "  warn('Non-stationary starting autoregressive parameters'\n",
      "c:\\Users\\alyss\\anaconda3\\lib\\site-packages\\statsmodels\\tsa\\statespace\\sarimax.py:978: UserWarning: Non-invertible starting MA parameters found. Using zeros as starting parameters.\n",
      "  warn('Non-invertible starting MA parameters found.'\n",
      "c:\\Users\\alyss\\anaconda3\\lib\\site-packages\\statsmodels\\base\\model.py:604: ConvergenceWarning: Maximum Likelihood optimization failed to converge. Check mle_retvals\n",
      "  warnings.warn(\"Maximum Likelihood optimization failed to \"\n"
     ]
    },
    {
     "name": "stdout",
     "output_type": "stream",
     "text": [
      "Melhor ordem (p, d, q) com base no AIC: (0, 1, 2)\n",
      "Melhor valor do AIC: 174.95057639890192\n"
     ]
    },
    {
     "name": "stderr",
     "output_type": "stream",
     "text": [
      "c:\\Users\\alyss\\anaconda3\\lib\\site-packages\\statsmodels\\tsa\\statespace\\sarimax.py:978: UserWarning: Non-invertible starting MA parameters found. Using zeros as starting parameters.\n",
      "  warn('Non-invertible starting MA parameters found.'\n",
      "c:\\Users\\alyss\\anaconda3\\lib\\site-packages\\statsmodels\\base\\model.py:604: ConvergenceWarning: Maximum Likelihood optimization failed to converge. Check mle_retvals\n",
      "  warnings.warn(\"Maximum Likelihood optimization failed to \"\n"
     ]
    }
   ],
   "source": [
    "best_aic = float('inf')\n",
    "best_order = None\n",
    "\n",
    "for p in range(3):  # Testar valores de p de 0 a 2\n",
    "    for d in range(2):  # Testar valores de d de 0 a 1\n",
    "        for q in range(3):  # Testar valores de q de 0 a 2\n",
    "            try:\n",
    "                model = ARIMA(df_pilha_AAA, order=(p, d, q))\n",
    "                fit = model.fit()\n",
    "                aic = fit.aic\n",
    "                if aic < best_aic:\n",
    "                    best_aic = aic\n",
    "                    best_order = (p, d, q)\n",
    "            except:\n",
    "                pass \n",
    "\n",
    "print(\"Melhor ordem (p, d, q) com base no AIC:\", best_order)\n",
    "print(\"Melhor valor do AIC:\", best_aic)"
   ]
  },
  {
   "cell_type": "code",
   "execution_count": 219,
   "metadata": {},
   "outputs": [
    {
     "data": {
      "text/plain": [
       "2020-01-01    4164.721860\n",
       "2020-02-01    4417.699741\n",
       "Freq: MS, Name: predicted_mean, dtype: float64"
      ]
     },
     "execution_count": 219,
     "metadata": {},
     "output_type": "execute_result"
    }
   ],
   "source": [
    "forecast_arima"
   ]
  },
  {
   "cell_type": "code",
   "execution_count": 225,
   "metadata": {},
   "outputs": [
    {
     "data": {
      "image/png": "[encoded data removed]",
      "text/plain": [
       "<Figure size 1000x600 with 1 Axes>"
      ]
     },
     "metadata": {},
     "output_type": "display_data"
    }
   ],
   "source": [
    "# Criar o gráfico\n",
    "plt.figure(figsize=(10, 6))\n",
    "\n",
    "# Plotar os dados reais\n",
    "sns.lineplot(x=df_pilha_AAA.index, y=df_pilha_AAA.values, label='Dados reais', marker='o')\n",
    "\n",
    "# Plotar as previsões do modelo ARIMA com linha de grid nos pontos\n",
    "plt.plot(forecast_arima.index, forecast_arima.values, color='red', linestyle='--', label='Previsões ARIMA', marker='o', markersize=8)\n",
    "plt.grid(True, which='both', linestyle='--', linewidth=0.5)  # Adicionar linha de grid nos pontos das previsões\n",
    "\n",
    "# Adicionar uma linha conectando os últimos pontos dos dados reais com o primeiro ponto das previsões\n",
    "plt.plot([df_pilha_AAA.index[-1], forecast_arima.index[0]], [df_pilha_AAA.values[-1], forecast_arima.values[0]], color='red', linestyle='--')\n",
    "\n",
    "# Adicionar rótulos e título\n",
    "plt.xlabel('Data')\n",
    "plt.ylabel('Vendas')\n",
    "plt.title('Previsão de Vendas com Modelo ARIMA')\n",
    "plt.legend()\n",
    "\n",
    "# Ajustar os ticks do eixo x para todos os meses\n",
    "plt.xticks(pd.date_range(start=df_pilha_AAA.index[0], end=forecast_arima.index[-1], freq='MS'), rotation=45)\n",
    "\n",
    "# Mostrar o gráfico\n",
    "plt.tight_layout()\n",
    "plt.show()"
   ]
  },
  {
   "cell_type": "code",
   "execution_count": null,
   "metadata": {},
   "outputs": [],
   "source": []
  },
  {
   "cell_type": "code",
   "execution_count": null,
   "metadata": {},
   "outputs": [],
   "source": []
  },
  {
   "cell_type": "code",
   "execution_count": null,
   "metadata": {},
   "outputs": [],
   "source": []
  },
  {
   "cell_type": "code",
   "execution_count": null,
   "metadata": {},
   "outputs": [],
   "source": []
  },
  {
   "cell_type": "code",
   "execution_count": null,
   "metadata": {},
   "outputs": [],
   "source": []
  },
  {
   "cell_type": "code",
   "execution_count": null,
   "metadata": {},
   "outputs": [],
   "source": []
  }
 ],
 "metadata": {
  "kernelspec": {
   "display_name": "base",
   "language": "python",
   "name": "python3"
  },
  "language_info": {
   "codemirror_mode": {
    "name": "ipython",
    "version": 3
   },
   "file_extension": ".py",
   "mimetype": "text/x-python",
   "name": "python",
   "nbconvert_exporter": "python",
   "pygments_lexer": "ipython3",
   "version": "undefined.undefined.undefined"
  }
 },
 "nbformat": 4,
 "nbformat_minor": 2
}
